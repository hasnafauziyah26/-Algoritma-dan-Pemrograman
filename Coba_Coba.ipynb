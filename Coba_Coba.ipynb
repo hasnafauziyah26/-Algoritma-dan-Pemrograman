{
  "nbformat": 4,
  "nbformat_minor": 0,
  "metadata": {
    "colab": {
      "name": "Coba-Coba",
      "provenance": [],
      "authorship_tag": "ABX9TyN8ocg/Y3T8lcoyohacCFVP",
      "include_colab_link": true
    },
    "kernelspec": {
      "name": "python3",
      "display_name": "Python 3"
    },
    "language_info": {
      "name": "python"
    }
  },
  "cells": [
    {
      "cell_type": "markdown",
      "metadata": {
        "id": "view-in-github",
        "colab_type": "text"
      },
      "source": [
        "<a href=\"https://colab.research.google.com/github/hasnafauziyah26/-Algoritma-dan-Pemrograman/blob/main/Coba_Coba.ipynb\" target=\"_parent\"><img src=\"https://colab.research.google.com/assets/colab-badge.svg\" alt=\"Open In Colab\"/></a>"
      ]
    },
    {
      "cell_type": "code",
      "execution_count": null,
      "metadata": {
        "colab": {
          "base_uri": "https://localhost:8080/"
        },
        "id": "JU7BCSnXy5jb",
        "outputId": "77cdf157-4448-4f1d-e75e-48b3c8a7bebe"
      },
      "outputs": [
        {
          "output_type": "stream",
          "name": "stdout",
          "text": [
            "Input Bilangan : 10\n",
            "1                    \n",
            "  2                  \n",
            "    3                \n",
            "      4              \n",
            "        5            \n",
            "          6          \n",
            "            7        \n",
            "              8      \n",
            "                9    \n",
            "                  10  \n"
          ]
        }
      ],
      "source": [
        "bil=int(input('Input Bilangan : '))\n",
        "for i in range (1,bil+1):\n",
        "  for j in range (1,bil+1):\n",
        "    if i==j:\n",
        "      print(i,end='  ')\n",
        "    else:\n",
        "      print(end='  ')\n",
        "  print()"
      ]
    },
    {
      "cell_type": "code",
      "source": [
        "s=int(input('Masuklan jumlah baris:'))\n",
        "z=1\n",
        "for x in range(s):\n",
        "  for y in range(z):\n",
        "    print(\"*\", end=\" \")\n",
        "  print(\"\")\n",
        "  z+=1"
      ],
      "metadata": {
        "colab": {
          "base_uri": "https://localhost:8080/"
        },
        "id": "YD5jMofGfkc9",
        "outputId": "1e802d83-377e-47c2-fe62-265a8e3112f7"
      },
      "execution_count": null,
      "outputs": [
        {
          "output_type": "stream",
          "name": "stdout",
          "text": [
            "Masuklan jumlah baris:5\n",
            "* \n",
            "* * \n",
            "* * * \n",
            "* * * * \n",
            "* * * * * \n"
          ]
        }
      ]
    }
  ]
}