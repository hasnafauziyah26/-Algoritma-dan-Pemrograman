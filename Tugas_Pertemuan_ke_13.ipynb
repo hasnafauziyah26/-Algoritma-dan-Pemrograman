{
  "nbformat": 4,
  "nbformat_minor": 0,
  "metadata": {
    "colab": {
      "name": "Tugas Pertemuan ke-13",
      "provenance": [],
      "authorship_tag": "ABX9TyMiOE6Oha27yA9NRpGf0lMm",
      "include_colab_link": true
    },
    "kernelspec": {
      "name": "python3",
      "display_name": "Python 3"
    },
    "language_info": {
      "name": "python"
    }
  },
  "cells": [
    {
      "cell_type": "markdown",
      "metadata": {
        "id": "view-in-github",
        "colab_type": "text"
      },
      "source": [
        "<a href=\"https://colab.research.google.com/github/hasnafauziyah26/Algoritma-dan-Pemrograman/blob/main/Tugas_Pertemuan_ke_13.ipynb\" target=\"_parent\"><img src=\"https://colab.research.google.com/assets/colab-badge.svg\" alt=\"Open In Colab\"/></a>"
      ]
    },
    {
      "cell_type": "markdown",
      "source": [
        "**Nama: Hasna Fauziyah Rodliyana**\n",
        "\n",
        "**NIM: H051211043**"
      ],
      "metadata": {
        "id": "ur3rU0o2rnM1"
      }
    },
    {
      "cell_type": "markdown",
      "source": [
        "**Latihan Halaman 26**\n",
        "\n",
        "Buatlah program untuk menghitung penjumlahan 2 buah matriks!"
      ],
      "metadata": {
        "id": "R3fGN4I5iox4"
      }
    },
    {
      "cell_type": "code",
      "source": [
        "ordo=int(input('Masukkan ordo:'))\n",
        "\n",
        "a=[]\n",
        "print('Matriks ke-1')\n",
        "for i in range(ordo):\n",
        "  a.append([])\n",
        "  for j in range(ordo):\n",
        "    a[i].append(int(input('Masukkan elemen [%d][%d]:' %(i+1,j+1))))\n",
        "  matriks.append(a)\n",
        "for baris in a:\n",
        "  print('\\t', end=' ')\n",
        "  for kolom in baris:\n",
        "    print('%d\\t'%kolom, end=' ')\n",
        "  print()\n",
        "\n",
        "b=[]\n",
        "print('Matriks ke-2')\n",
        "for i in range(ordo):\n",
        "  b.append([])\n",
        "  for j in range(ordo):\n",
        "    b[i].append(int(input('Masukkan elemen [%d][%d]:' %(i+1,j+1))))\n",
        "  matriks.append(b)\n",
        "for baris in b:\n",
        "  print('\\t', end=' ')\n",
        "  for kolom in baris:\n",
        "    print('%d\\t'%kolom, end=' ')\n",
        "  print()\n",
        "\n",
        "print('Penjumlahan matriks:')\n",
        "plus=[]\n",
        "total=0\n",
        "for i in range(ordo):\n",
        "  row=[]\n",
        "  for j in range(ordo):\n",
        "    total=a[i][j]+b[i][j]\n",
        "    row.append(total)\n",
        "  plus.append(row)\n",
        "for i in range (ordo):\n",
        "  print(\"\\t\",end=' ')\n",
        "  for j in range(ordo):\n",
        "    print(plus[i][j],end='\\t')\n",
        "  print()"
      ],
      "metadata": {
        "colab": {
          "base_uri": "https://localhost:8080/"
        },
        "id": "D5qdCVCnicDA",
        "outputId": "3435cb63-f120-4c61-d341-c6f9896e30c5"
      },
      "execution_count": null,
      "outputs": [
        {
          "output_type": "stream",
          "name": "stdout",
          "text": [
            "Masukkan ordo:3\n",
            "Matriks ke-1\n",
            "Masukkan elemen [1][1]:1\n",
            "Masukkan elemen [1][2]:2\n",
            "Masukkan elemen [1][3]:3\n",
            "Masukkan elemen [2][1]:4\n",
            "Masukkan elemen [2][2]:5\n",
            "Masukkan elemen [2][3]:6\n",
            "Masukkan elemen [3][1]:7\n",
            "Masukkan elemen [3][2]:8\n",
            "Masukkan elemen [3][3]:9\n",
            "\t 1\t 2\t 3\t \n",
            "\t 4\t 5\t 6\t \n",
            "\t 7\t 8\t 9\t \n",
            "Matriks ke-2\n",
            "Masukkan elemen [1][1]:1\n",
            "Masukkan elemen [1][2]:3\n",
            "Masukkan elemen [1][3]:5\n",
            "Masukkan elemen [2][1]:7\n",
            "Masukkan elemen [2][2]:9\n",
            "Masukkan elemen [2][3]:2\n",
            "Masukkan elemen [3][1]:4\n",
            "Masukkan elemen [3][2]:6\n",
            "Masukkan elemen [3][3]:8\n",
            "\t 1\t 3\t 5\t \n",
            "\t 7\t 9\t 2\t \n",
            "\t 4\t 6\t 8\t \n",
            "Penjumlahan matriks:\n",
            "\t 2\t5\t8\t\n",
            "\t 11\t14\t8\t\n",
            "\t 11\t14\t17\t\n"
          ]
        }
      ]
    },
    {
      "cell_type": "markdown",
      "source": [
        "**Latihan Halaman 29-30**"
      ],
      "metadata": {
        "id": "Dfb8nSYuuNYK"
      }
    },
    {
      "cell_type": "markdown",
      "source": [
        "1. Buatlah program untuk menghitung total pembelian N buah barang dengan harga dan jumlah tertentu"
      ],
      "metadata": {
        "id": "XioldqYGuNF4"
      }
    },
    {
      "cell_type": "code",
      "source": [
        "barang=int(input('Banyak jenis barang:'))\n",
        "jumlah=0\n",
        "total=0\n",
        "for i in range (barang):\n",
        "  print('Jenis barang ke-'+str(i+1))\n",
        "  harga=eval(input('Harga barang: Rp'))\n",
        "  banyak=eval(input('Jumlah barang:'))\n",
        "  total=banyak+total\n",
        "  jumlah=(harga*banyak)+jumlah\n",
        "print('Total pembelian %d jenis barang dengan jumlah %d buah barang adalah Rp%d'%(barang, total,jumlah))"
      ],
      "metadata": {
        "id": "CEyxDOFZypjZ",
        "colab": {
          "base_uri": "https://localhost:8080/"
        },
        "outputId": "3e35fe1d-a906-495f-e04b-c9ccc9e48e9d"
      },
      "execution_count": null,
      "outputs": [
        {
          "output_type": "stream",
          "name": "stdout",
          "text": [
            "Banyak jenis barang:4\n",
            "Jenis barang ke-1\n",
            "Harga barang: Rp2500\n",
            "Jumlah barang:6\n",
            "Jenis barang ke-2\n",
            "Harga barang: Rp98800\n",
            "Jumlah barang:2\n",
            "Jenis barang ke-3\n",
            "Harga barang: Rp5000\n",
            "Jumlah barang:5\n",
            "Jenis barang ke-4\n",
            "Harga barang: Rp20000\n",
            "Jumlah barang:3\n",
            "Total pembelian 4 jenis barang dengan jumlah 16 barang adalah Rp297600\n"
          ]
        }
      ]
    },
    {
      "cell_type": "markdown",
      "source": [
        "2. Buatlah program untuk menghitung banyaknya bilangan genap ataupun bilangan ganjil dari N buah bilangan yang diinput secara acak"
      ],
      "metadata": {
        "id": "hHDvfwn7uBZy"
      }
    },
    {
      "cell_type": "code",
      "execution_count": null,
      "metadata": {
        "colab": {
          "base_uri": "https://localhost:8080/"
        },
        "id": "BH-U33wZ3vZL",
        "outputId": "528c2016-dfb0-4ced-f380-6124d5a204fd"
      },
      "outputs": [
        {
          "output_type": "stream",
          "name": "stdout",
          "text": [
            "Input banyak bilangan: 7\n",
            "Input bilangan ke-1:11\n",
            "Input bilangan ke-2:17\n",
            "Input bilangan ke-3:1\n",
            "Input bilangan ke-4:26\n",
            "Input bilangan ke-5:13\n",
            "Input bilangan ke-6:6\n",
            "Input bilangan ke-7:25\n",
            "Jumlah bilangan genap 2 bilangan\n",
            "Jumlah bilangan ganjil 5 genap\n"
          ]
        }
      ],
      "source": [
        "banyakbil = int(input('Input banyak bilangan: '))\n",
        "genap=0\n",
        "ganjil=0\n",
        "for i in range (banyakbil):\n",
        "  bil=int(input('Input bilangan ke-{}:'.format(str(i+1))))\n",
        "  if bil%2==0:\n",
        "    genap=genap+1\n",
        "  else:\n",
        "    ganjil=ganjil+1\n",
        "print(\"Jumlah bilangan genap %d bilangan\" %genap)\n",
        "print(\"Jumlah bilangan ganjil %d genap\" %ganjil)"
      ]
    },
    {
      "cell_type": "markdown",
      "source": [
        "3. Buatlah program untuk menampilkan bilangan kelipatan 3 diantara bilangan tertentu"
      ],
      "metadata": {
        "id": "NdoDWbDjyxgO"
      }
    },
    {
      "cell_type": "code",
      "source": [
        "awal=int(input('Nilai awal: '))\n",
        "akhir=int(input('Nilai akhir: '))\n",
        "for i in range (awal,akhir+1,3):\n",
        "  print(i, end=' ')"
      ],
      "metadata": {
        "colab": {
          "base_uri": "https://localhost:8080/"
        },
        "id": "a_PnT69qzE56",
        "outputId": "451ecf1a-97ef-4200-a070-d2f7841131c3"
      },
      "execution_count": null,
      "outputs": [
        {
          "output_type": "stream",
          "name": "stdout",
          "text": [
            "Nilai awal: 4\n",
            "Nilai akhir: 90\n",
            "4 7 10 13 16 19 22 25 28 31 34 37 40 43 46 49 52 55 58 61 64 67 70 73 76 79 82 85 88 "
          ]
        }
      ]
    },
    {
      "cell_type": "markdown",
      "source": [
        "4. Buatlah program untuk menampilkan bentuk bilangan seperti berikut ini:\n",
        "Bilangan : <input suatu bilangan (misal:5)>\n",
        "\n",
        "  1\n",
        "\n",
        "  12\n",
        "\n",
        "  123\n",
        "\n",
        "  1234\n",
        "\n",
        "  12345"
      ],
      "metadata": {
        "id": "1ZW9mCS4z7pH"
      }
    },
    {
      "cell_type": "code",
      "source": [
        "a=int(input('Input Bilangan:'))\n",
        "for i in range (1, a+1):\n",
        "  for j in range (1, i+1):\n",
        "     print(j, end='')\n",
        "  print()"
      ],
      "metadata": {
        "colab": {
          "base_uri": "https://localhost:8080/"
        },
        "id": "MdLbIOfjqOa8",
        "outputId": "053f4b73-1f6d-465c-a252-7dfc6ef2af34"
      },
      "execution_count": null,
      "outputs": [
        {
          "output_type": "stream",
          "name": "stdout",
          "text": [
            "Input Bilangan:5\n",
            "1\n",
            "12\n",
            "123\n",
            "1234\n",
            "12345\n"
          ]
        }
      ]
    },
    {
      "cell_type": "markdown",
      "source": [
        "5. Buatlah program untuk menghitung dan menampilkan bentuk berikut ini:\n",
        "\n",
        "   ---\n",
        "\n",
        "   No. Nama Mhs N.Tugas N.Kuis N.UTS N.UAS NilaiAkhir\n",
        "\n",
        "   ---\n",
        "\n",
        "  1\n",
        "\n",
        "  2\n",
        "  \n",
        "  ..\n",
        "  \n",
        "  N"
      ],
      "metadata": {
        "id": "cGGSsFmw0G3F"
      }
    },
    {
      "cell_type": "code",
      "source": [
        "list_no=[]\n",
        "list_nama=[]\n",
        "list_ntugas=[]\n",
        "list_nkuis=[]\n",
        "list_nuts=[]\n",
        "list_nuas=[]\n",
        "list_total=[]\n",
        "banyak=int(input('Banyak Mahasiswa:'))\n",
        "for i in range(banyak):\n",
        "  print('Data ke-'+str(i+1))\n",
        "  list_no.append(str(i+1))\n",
        "  list_nama.append(input(\"Nama Mahasiswa:\"))\n",
        "  list_ntugas.append(int(input('Nilai Tugas:')))\n",
        "  list_nkuis.append(int(input('Nilai Kuis:')))\n",
        "  list_nuts.append(int(input('Nilai UTS:')))\n",
        "  list_nuas.append(int(input('Nilai UAS:')))\n",
        "for i in range(banyak):\n",
        "  list_total.append((list_ntugas[i]+list_nkuis[i]+list_nuts[i]+list_nuas[i])/4)\n",
        "print(\"=====================================================================\")\n",
        "print(\"No     Nama Mhs        N.Tugas N.Kuis   N.UTS   N.UAS   NilaiAkhir\")\n",
        "print(\"=====================================================================\")\n",
        "for i in range (banyak):\n",
        "  print(\"%s \\t %s \\t\\t %i \\t %i \\t %i \\t %i \\t %i\" % (list_no[i],list_nama[i],list_ntugas[i],list_nkuis[i],list_nuts[i],list_nuas[i],list_total[i]))"
      ],
      "metadata": {
        "id": "vOtAaWb0wIRZ",
        "colab": {
          "base_uri": "https://localhost:8080/"
        },
        "outputId": "acfacc07-5576-4bbd-dbb1-cc2be6dac394"
      },
      "execution_count": null,
      "outputs": [
        {
          "output_type": "stream",
          "name": "stdout",
          "text": [
            "Banyak Mahasiswa:3\n",
            "Data ke-1\n",
            "Nama Mahasiswa:Barry\n",
            "Nilai Tugas:90\n",
            "Nilai Kuis:70\n",
            "Nilai UTS:80\n",
            "Nilai UAS:89\n",
            "Data ke-2\n",
            "Nama Mahasiswa:Raddy\n",
            "Nilai Tugas:87\n",
            "Nilai Kuis:99\n",
            "Nilai UTS:76\n",
            "Nilai UAS:88\n",
            "Data ke-3\n",
            "Nama Mahasiswa:Fitri\n",
            "Nilai Tugas:87\n",
            "Nilai Kuis:90\n",
            "Nilai UTS:87\n",
            "Nilai UAS:90\n",
            "=====================================================================\n",
            "No     Nama Mhs        N.Tugas N.Kuis   N.UTS   N.UAS   NilaiAkhir\n",
            "=====================================================================\n",
            "1 \t Barry \t\t 90 \t 70 \t 80 \t 89 \t 82\n",
            "2 \t Raddy \t\t 87 \t 99 \t 76 \t 88 \t 87\n",
            "3 \t Fitri \t\t 87 \t 90 \t 87 \t 90 \t 88\n"
          ]
        }
      ]
    }
  ]
}