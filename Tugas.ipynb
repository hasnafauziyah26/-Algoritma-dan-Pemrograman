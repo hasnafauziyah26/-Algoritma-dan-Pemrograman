{
  "nbformat": 4,
  "nbformat_minor": 0,
  "metadata": {
    "colab": {
      "name": "Tugas",
      "provenance": [],
      "authorship_tag": "ABX9TyN+/Qdi3SC/yZ+vb2eULBIz",
      "include_colab_link": true
    },
    "kernelspec": {
      "name": "python3",
      "display_name": "Python 3"
    },
    "language_info": {
      "name": "python"
    }
  },
  "cells": [
    {
      "cell_type": "markdown",
      "metadata": {
        "id": "view-in-github",
        "colab_type": "text"
      },
      "source": [
        "<a href=\"https://colab.research.google.com/github/hasnafauziyah26/-Algoritma-dan-Pemrograman/blob/main/Tugas.ipynb\" target=\"_parent\"><img src=\"https://colab.research.google.com/assets/colab-badge.svg\" alt=\"Open In Colab\"/></a>"
      ]
    },
    {
      "cell_type": "markdown",
      "source": [
        "**Latihan Halaman 26**"
      ],
      "metadata": {
        "id": "R3fGN4I5iox4"
      }
    },
    {
      "cell_type": "code",
      "source": [
        ""
      ],
      "metadata": {
        "id": "Xw-R7oqyipZV"
      },
      "execution_count": null,
      "outputs": []
    },
    {
      "cell_type": "markdown",
      "source": [
        "**Latihan Halaman 29-30**"
      ],
      "metadata": {
        "id": "Dfb8nSYuuNYK"
      }
    },
    {
      "cell_type": "markdown",
      "source": [
        "1. Buatlah program untuk menghitung total pembelian N buah barang dengan harga dan jumlah tertentu"
      ],
      "metadata": {
        "id": "XioldqYGuNF4"
      }
    },
    {
      "cell_type": "code",
      "source": [
        "barang=int(input('Banyak barang:'))\n",
        "harga=int(input('Harga barang:'))\n",
        "\n",
        "banyak=0\n",
        "total=0\n",
        "\n",
        "for i in range (barang,harga+1):\n",
        "  banyak=banyak+1\n",
        "  total=total+1\n",
        "\n",
        "print('Banyak barang yang dibeli adalah %d barang' %banyak)\n",
        "print('Total harga pembelian adalah Rp%d' %total)"
      ],
      "metadata": {
        "id": "CEyxDOFZypjZ",
        "colab": {
          "base_uri": "https://localhost:8080/"
        },
        "outputId": "c9c93d40-134c-4292-bc9e-88f68fdb4e38"
      },
      "execution_count": null,
      "outputs": [
        {
          "output_type": "stream",
          "name": "stdout",
          "text": [
            "Banyak barang:5\n",
            "Harga barang:1000\n",
            "Banyak barang yang dibeli adalah 996 barang\n",
            "Total harga pembelian adalah Rp996\n"
          ]
        }
      ]
    },
    {
      "cell_type": "markdown",
      "source": [
        "2. Buatlah program untuk menghitung banyaknya bilangan genap ataupun bilangan ganjil dari N buah bilangan yang diinput secara acak"
      ],
      "metadata": {
        "id": "hHDvfwn7uBZy"
      }
    },
    {
      "cell_type": "code",
      "execution_count": null,
      "metadata": {
        "colab": {
          "base_uri": "https://localhost:8080/"
        },
        "id": "BH-U33wZ3vZL",
        "outputId": "1b8e921e-e265-420d-e96f-1257fb3900df"
      },
      "outputs": [
        {
          "output_type": "stream",
          "name": "stdout",
          "text": [
            "Input Banyak Bilangan: 3\n",
            "Input Bilangan:1\n",
            "Jumlah bilangan genap 0 bilangan\n",
            "Jumlah bilangan ganjil 1 genap\n",
            "Input Bilangan:2\n",
            "Jumlah bilangan genap 1 bilangan\n",
            "Jumlah bilangan ganjil 1 genap\n",
            "Input Bilangan:3\n",
            "Jumlah bilangan genap 1 bilangan\n",
            "Jumlah bilangan ganjil 2 genap\n"
          ]
        }
      ],
      "source": [
        "banyakbil = int(input('Input Banyak Bilangan: '))\n",
        "genap=0\n",
        "ganjil=0\n",
        "for i in range (banyakbil):\n",
        "  bil=int(input('Input Bilangan:'))\n",
        "  if bil%2==0:\n",
        "    genap=genap+1\n",
        "    print(\"Jumlah bilangan genap %d bilangan\" %genap)\n",
        "    print(\"Jumlah bilangan ganjil %d genap\" %ganjil)\n",
        "  else:\n",
        "    ganjil=ganjil+1\n",
        "    print(\"Jumlah bilangan genap %d bilangan\" %genap)\n",
        "    print(\"Jumlah bilangan ganjil %d genap\" %ganjil)"
      ]
    },
    {
      "cell_type": "markdown",
      "source": [
        "3. Buatlah program untuk menampilkan bilangan kelipatan 3 diantara bilangan tertentu"
      ],
      "metadata": {
        "id": "NdoDWbDjyxgO"
      }
    },
    {
      "cell_type": "code",
      "source": [
        "awal=int(input('Nilai awal: '))\n",
        "akhir=int(input('Nilai akhir: '))\n",
        "for i in range (awal,akhir+1,3):\n",
        "  print(i, end=' ')"
      ],
      "metadata": {
        "colab": {
          "base_uri": "https://localhost:8080/"
        },
        "id": "a_PnT69qzE56",
        "outputId": "451ecf1a-97ef-4200-a070-d2f7841131c3"
      },
      "execution_count": null,
      "outputs": [
        {
          "output_type": "stream",
          "name": "stdout",
          "text": [
            "Nilai awal: 4\n",
            "Nilai akhir: 90\n",
            "4 7 10 13 16 19 22 25 28 31 34 37 40 43 46 49 52 55 58 61 64 67 70 73 76 79 82 85 88 "
          ]
        }
      ]
    },
    {
      "cell_type": "markdown",
      "source": [
        "4. Buatlah program untuk menampilkan bentuk bilangan seperti berikut ini:\n",
        "Bilangan : <input suatu bilangan (misal:5)>\n",
        "\n",
        "  1\n",
        "\n",
        "  12\n",
        "\n",
        "  123\n",
        "\n",
        "  1234\n",
        "\n",
        "  12345"
      ],
      "metadata": {
        "id": "1ZW9mCS4z7pH"
      }
    },
    {
      "cell_type": "code",
      "source": [
        "a=int(input('Input Bilangan:'))\n",
        "for i in range (1, a+1):\n",
        "  for j in range (1, i+1):\n",
        "     print(j, end='')\n",
        "  print()"
      ],
      "metadata": {
        "colab": {
          "base_uri": "https://localhost:8080/"
        },
        "id": "MdLbIOfjqOa8",
        "outputId": "053f4b73-1f6d-465c-a252-7dfc6ef2af34"
      },
      "execution_count": null,
      "outputs": [
        {
          "output_type": "stream",
          "name": "stdout",
          "text": [
            "Input Bilangan:5\n",
            "1\n",
            "12\n",
            "123\n",
            "1234\n",
            "12345\n"
          ]
        }
      ]
    },
    {
      "cell_type": "markdown",
      "source": [
        "5. Buatlah program untuk menghitung dan menampilkan bentuk berikut ini:\n",
        "\n",
        "   ---\n",
        "\n",
        "   No. Nama Mhs N.Tugas N.Kuis N.UTS N.UAS NilaiAkhir\n",
        "\n",
        "   ---\n",
        "\n",
        "  1\n",
        "\n",
        "  2\n",
        "  \n",
        "  ..\n",
        "  \n",
        "  N"
      ],
      "metadata": {
        "id": "cGGSsFmw0G3F"
      }
    },
    {
      "cell_type": "code",
      "source": [
        "list_no=[]\n",
        "list_nama=[]\n",
        "list_ntugas=[]\n",
        "list_nkuis=[]\n",
        "list_nuts=[]\n",
        "list_nuas=[]\n",
        "list_total=[]\n",
        "banyak=int(input('Banyak Mahasiswa:'))\n",
        "for i in range(banyak):\n",
        "  print('Data ke-'+str(i+1))\n",
        "  list_no.append(str(i+1))\n",
        "  list_nama.append(input(\"Nama Mahasiswa:\"))\n",
        "  list_ntugas.append(int(input('Nilai Tugas:')))\n",
        "  list_nkuis.append(int(input('Nilai Kuis:')))\n",
        "  list_nuts.append(int(input('Nilai UTS:')))\n",
        "  list_nuas.append(int(input('Nilai UAS:')))\n",
        "for i in range(banyak):\n",
        "  list_total.append((list_ntugas[i]+list_nkuis[i]+list_nuts[i]+list_nuas[i])/4)\n",
        "print(\"=====================================================================\")\n",
        "print(\"No     Nama Mhs        N.Tugas N.Kuis   N.UTS   N.UAS   NilaiAkhir\")\n",
        "print(\"=====================================================================\")\n",
        "for i in range (banyak):\n",
        "  print(\"%s \\t %s \\t\\t %i \\t %i \\t %i \\t %i \\t %i\" % (list_no[i],list_nama[i],list_ntugas[i],list_nkuis[i],list_nuts[i],list_nuas[i],list_total[i]))"
      ],
      "metadata": {
        "id": "vOtAaWb0wIRZ",
        "colab": {
          "base_uri": "https://localhost:8080/"
        },
        "outputId": "acfacc07-5576-4bbd-dbb1-cc2be6dac394"
      },
      "execution_count": 48,
      "outputs": [
        {
          "output_type": "stream",
          "name": "stdout",
          "text": [
            "Banyak Mahasiswa:3\n",
            "Data ke-1\n",
            "Nama Mahasiswa:Barry\n",
            "Nilai Tugas:90\n",
            "Nilai Kuis:70\n",
            "Nilai UTS:80\n",
            "Nilai UAS:89\n",
            "Data ke-2\n",
            "Nama Mahasiswa:Raddy\n",
            "Nilai Tugas:87\n",
            "Nilai Kuis:99\n",
            "Nilai UTS:76\n",
            "Nilai UAS:88\n",
            "Data ke-3\n",
            "Nama Mahasiswa:Fitri\n",
            "Nilai Tugas:87\n",
            "Nilai Kuis:90\n",
            "Nilai UTS:87\n",
            "Nilai UAS:90\n",
            "=====================================================================\n",
            "No     Nama Mhs        N.Tugas N.Kuis   N.UTS   N.UAS   NilaiAkhir\n",
            "=====================================================================\n",
            "1 \t Barry \t\t 90 \t 70 \t 80 \t 89 \t 82\n",
            "2 \t Raddy \t\t 87 \t 99 \t 76 \t 88 \t 87\n",
            "3 \t Fitri \t\t 87 \t 90 \t 87 \t 90 \t 88\n"
          ]
        }
      ]
    }
  ]
}